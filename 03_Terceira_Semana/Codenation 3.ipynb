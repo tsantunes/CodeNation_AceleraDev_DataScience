{
 "cells": [
  {
   "cell_type": "code",
   "execution_count": 4,
   "metadata": {},
   "outputs": [],
   "source": [
    "import pandas as pd \n",
    "import numpy as np \n",
    "import json"
   ]
  },
  {
   "cell_type": "code",
   "execution_count": 2,
   "metadata": {},
   "outputs": [],
   "source": [
    "df = pd.read_csv('desafio1.csv')\n",
    "df\n",
    "filtro =['pontuacao_credito','estado_residencia']"
   ]
  },
  {
   "cell_type": "code",
   "execution_count": 8,
   "metadata": {},
   "outputs": [],
   "source": [
    "a= df[filtro]\n",
    "df_mean = a.groupby(['estado_residencia']).count()\n",
    "df_mean['media'] = a.groupby(['estado_residencia']).mean()\n",
    "df_mean['mediana'] = a.groupby(['estado_residencia']).median()\n",
    "df_mean['desvio_padrao'] = a.groupby(['estado_residencia']).std()\n",
    "df_mean['moda'] = a.groupby(['estado_residencia']).agg(pd.Series.mode)\n",
    "filtro2=['media','mediana','desvio_padrao','moda']\n",
    "df_resposta=df_mean[filtro2]\n",
    "resposta =df_resposta.to_json(orient='index')\n",
    "arquivo_resposta = open (\"submission\",\"w\")\n",
    "arquivo_resposta.write(resposta)\n",
    "arquivo_resposta.close()\n"
   ]
  },
  {
   "cell_type": "code",
   "execution_count": null,
   "metadata": {},
   "outputs": [],
   "source": []
  },
  {
   "cell_type": "code",
   "execution_count": null,
   "metadata": {},
   "outputs": [],
   "source": []
  },
  {
   "cell_type": "code",
   "execution_count": null,
   "metadata": {},
   "outputs": [],
   "source": []
  }
 ],
 "metadata": {
  "kernelspec": {
   "display_name": "Python 3 (Spyder)",
   "language": "python3",
   "name": "python3"
  },
  "language_info": {
   "codemirror_mode": {
    "name": "ipython",
    "version": 3
   },
   "file_extension": ".py",
   "mimetype": "text/x-python",
   "name": "python",
   "nbconvert_exporter": "python",
   "pygments_lexer": "ipython3",
   "version": "3.7.7"
  }
 },
 "nbformat": 4,
 "nbformat_minor": 4
}
