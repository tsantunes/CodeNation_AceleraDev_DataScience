{
 "cells": [
  {
   "cell_type": "code",
   "execution_count": 2,
   "metadata": {},
   "outputs": [],
   "source": [
    "import pandas as pd"
   ]
  },
  {
   "cell_type": "code",
   "execution_count": 3,
   "metadata": {
    "pycharm": {
     "name": "#%%\n"
    }
   },
   "outputs": [],
   "source": [
    "df = pd.read_csv(\"datasets_554905_1035602_houses_to_rent.csv\")\n",
    "\n",
    "df.shape"
   ]
  },
  {
   "cell_type": "code",
   "execution_count": 4,
   "outputs": [
    {
     "data": {
      "text/plain": "   Unnamed: 0  city  area  rooms  bathroom  parking spaces floor     animal  \\\n0           0     1   240      3         3               4     -      acept   \n1           1     0    64      2         1               1    10      acept   \n2           2     1   443      5         5               4     3      acept   \n3           3     1    73      2         2               1    12      acept   \n4           4     1    19      1         1               0     -  not acept   \n\n       furniture      hoa rent amount property tax fire insurance     total  \n0      furnished      R$0     R$8,000      R$1,000          R$121   R$9,121  \n1  not furnished    R$540       R$820        R$122           R$11   R$1,493  \n2      furnished  R$4,172     R$7,000      R$1,417           R$89  R$12,680  \n3  not furnished    R$700     R$1,250        R$150           R$16   R$2,116  \n4  not furnished      R$0     R$1,200         R$41           R$16   R$1,257  ",
      "text/html": "<div>\n<style scoped>\n    .dataframe tbody tr th:only-of-type {\n        vertical-align: middle;\n    }\n\n    .dataframe tbody tr th {\n        vertical-align: top;\n    }\n\n    .dataframe thead th {\n        text-align: right;\n    }\n</style>\n<table border=\"1\" class=\"dataframe\">\n  <thead>\n    <tr style=\"text-align: right;\">\n      <th></th>\n      <th>Unnamed: 0</th>\n      <th>city</th>\n      <th>area</th>\n      <th>rooms</th>\n      <th>bathroom</th>\n      <th>parking spaces</th>\n      <th>floor</th>\n      <th>animal</th>\n      <th>furniture</th>\n      <th>hoa</th>\n      <th>rent amount</th>\n      <th>property tax</th>\n      <th>fire insurance</th>\n      <th>total</th>\n    </tr>\n  </thead>\n  <tbody>\n    <tr>\n      <th>0</th>\n      <td>0</td>\n      <td>1</td>\n      <td>240</td>\n      <td>3</td>\n      <td>3</td>\n      <td>4</td>\n      <td>-</td>\n      <td>acept</td>\n      <td>furnished</td>\n      <td>R$0</td>\n      <td>R$8,000</td>\n      <td>R$1,000</td>\n      <td>R$121</td>\n      <td>R$9,121</td>\n    </tr>\n    <tr>\n      <th>1</th>\n      <td>1</td>\n      <td>0</td>\n      <td>64</td>\n      <td>2</td>\n      <td>1</td>\n      <td>1</td>\n      <td>10</td>\n      <td>acept</td>\n      <td>not furnished</td>\n      <td>R$540</td>\n      <td>R$820</td>\n      <td>R$122</td>\n      <td>R$11</td>\n      <td>R$1,493</td>\n    </tr>\n    <tr>\n      <th>2</th>\n      <td>2</td>\n      <td>1</td>\n      <td>443</td>\n      <td>5</td>\n      <td>5</td>\n      <td>4</td>\n      <td>3</td>\n      <td>acept</td>\n      <td>furnished</td>\n      <td>R$4,172</td>\n      <td>R$7,000</td>\n      <td>R$1,417</td>\n      <td>R$89</td>\n      <td>R$12,680</td>\n    </tr>\n    <tr>\n      <th>3</th>\n      <td>3</td>\n      <td>1</td>\n      <td>73</td>\n      <td>2</td>\n      <td>2</td>\n      <td>1</td>\n      <td>12</td>\n      <td>acept</td>\n      <td>not furnished</td>\n      <td>R$700</td>\n      <td>R$1,250</td>\n      <td>R$150</td>\n      <td>R$16</td>\n      <td>R$2,116</td>\n    </tr>\n    <tr>\n      <th>4</th>\n      <td>4</td>\n      <td>1</td>\n      <td>19</td>\n      <td>1</td>\n      <td>1</td>\n      <td>0</td>\n      <td>-</td>\n      <td>not acept</td>\n      <td>not furnished</td>\n      <td>R$0</td>\n      <td>R$1,200</td>\n      <td>R$41</td>\n      <td>R$16</td>\n      <td>R$1,257</td>\n    </tr>\n  </tbody>\n</table>\n</div>"
     },
     "execution_count": 4,
     "metadata": {},
     "output_type": "execute_result"
    }
   ],
   "source": [
    "df.head()"
   ],
   "metadata": {
    "collapsed": false,
    "pycharm": {
     "name": "#%%\n"
    }
   }
  },
  {
   "cell_type": "code",
   "execution_count": 5,
   "outputs": [
    {
     "data": {
      "text/plain": "       Unnamed: 0         city          area        rooms     bathroom  \\\ncount  6080.00000  6080.000000   6080.000000  6080.000000  6080.000000   \nmean   3039.50000     0.863322    151.143914     2.492599     2.341612   \nstd    1755.28915     0.343535    375.559485     1.129665     1.438860   \nmin       0.00000     0.000000     10.000000     1.000000     1.000000   \n25%    1519.75000     1.000000     58.000000     2.000000     1.000000   \n50%    3039.50000     1.000000    100.000000     3.000000     2.000000   \n75%    4559.25000     1.000000    200.000000     3.000000     3.000000   \nmax    6079.00000     1.000000  24606.000000    10.000000    10.000000   \n\n       parking spaces  \ncount     6080.000000  \nmean         1.756250  \nstd          1.611909  \nmin          0.000000  \n25%          1.000000  \n50%          1.000000  \n75%          2.000000  \nmax         12.000000  ",
      "text/html": "<div>\n<style scoped>\n    .dataframe tbody tr th:only-of-type {\n        vertical-align: middle;\n    }\n\n    .dataframe tbody tr th {\n        vertical-align: top;\n    }\n\n    .dataframe thead th {\n        text-align: right;\n    }\n</style>\n<table border=\"1\" class=\"dataframe\">\n  <thead>\n    <tr style=\"text-align: right;\">\n      <th></th>\n      <th>Unnamed: 0</th>\n      <th>city</th>\n      <th>area</th>\n      <th>rooms</th>\n      <th>bathroom</th>\n      <th>parking spaces</th>\n    </tr>\n  </thead>\n  <tbody>\n    <tr>\n      <th>count</th>\n      <td>6080.00000</td>\n      <td>6080.000000</td>\n      <td>6080.000000</td>\n      <td>6080.000000</td>\n      <td>6080.000000</td>\n      <td>6080.000000</td>\n    </tr>\n    <tr>\n      <th>mean</th>\n      <td>3039.50000</td>\n      <td>0.863322</td>\n      <td>151.143914</td>\n      <td>2.492599</td>\n      <td>2.341612</td>\n      <td>1.756250</td>\n    </tr>\n    <tr>\n      <th>std</th>\n      <td>1755.28915</td>\n      <td>0.343535</td>\n      <td>375.559485</td>\n      <td>1.129665</td>\n      <td>1.438860</td>\n      <td>1.611909</td>\n    </tr>\n    <tr>\n      <th>min</th>\n      <td>0.00000</td>\n      <td>0.000000</td>\n      <td>10.000000</td>\n      <td>1.000000</td>\n      <td>1.000000</td>\n      <td>0.000000</td>\n    </tr>\n    <tr>\n      <th>25%</th>\n      <td>1519.75000</td>\n      <td>1.000000</td>\n      <td>58.000000</td>\n      <td>2.000000</td>\n      <td>1.000000</td>\n      <td>1.000000</td>\n    </tr>\n    <tr>\n      <th>50%</th>\n      <td>3039.50000</td>\n      <td>1.000000</td>\n      <td>100.000000</td>\n      <td>3.000000</td>\n      <td>2.000000</td>\n      <td>1.000000</td>\n    </tr>\n    <tr>\n      <th>75%</th>\n      <td>4559.25000</td>\n      <td>1.000000</td>\n      <td>200.000000</td>\n      <td>3.000000</td>\n      <td>3.000000</td>\n      <td>2.000000</td>\n    </tr>\n    <tr>\n      <th>max</th>\n      <td>6079.00000</td>\n      <td>1.000000</td>\n      <td>24606.000000</td>\n      <td>10.000000</td>\n      <td>10.000000</td>\n      <td>12.000000</td>\n    </tr>\n  </tbody>\n</table>\n</div>"
     },
     "execution_count": 5,
     "metadata": {},
     "output_type": "execute_result"
    }
   ],
   "source": [
    "df.describe()"
   ],
   "metadata": {
    "collapsed": false,
    "pycharm": {
     "name": "#%%\n"
    }
   }
  },
  {
   "cell_type": "code",
   "execution_count": 6,
   "outputs": [
    {
     "data": {
      "text/plain": "Index(['Unnamed: 0', 'city', 'area', 'rooms', 'bathroom', 'parking spaces',\n       'floor', 'animal', 'furniture', 'hoa', 'rent amount', 'property tax',\n       'fire insurance', 'total'],\n      dtype='object')"
     },
     "execution_count": 6,
     "metadata": {},
     "output_type": "execute_result"
    }
   ],
   "source": [
    "df.columns\n"
   ],
   "metadata": {
    "collapsed": false,
    "pycharm": {
     "name": "#%%\n"
    }
   }
  },
  {
   "cell_type": "code",
   "execution_count": 13,
   "outputs": [
    {
     "data": {
      "text/plain": "      Unnamed: 0  city  area  rooms  bathroom  parking spaces floor  \\\n0              0     1   240      3         3               4     -   \n1              1     0    64      2         1               1    10   \n2              2     1   443      5         5               4     3   \n3              3     1    73      2         2               1    12   \n4              4     1    19      1         1               0     -   \n...          ...   ...   ...    ...       ...             ...   ...   \n6075        6075     1    50      2         1               1     2   \n6076        6076     1    84      2         2               1    16   \n6077        6077     0    48      1         1               0    13   \n6078        6078     1   160      3         2               2     -   \n6079        6079     1    60      2         1               1     4   \n\n         animal      furniture      hoa valor_aluguel property tax  \\\n0         acept      furnished      R$0       R$8,000      R$1,000   \n1         acept  not furnished    R$540         R$820        R$122   \n2         acept      furnished  R$4,172       R$7,000      R$1,417   \n3         acept  not furnished    R$700       R$1,250        R$150   \n4     not acept  not furnished      R$0       R$1,200         R$41   \n...         ...            ...      ...           ...          ...   \n6075      acept  not furnished    R$420       R$1,150          R$0   \n6076  not acept      furnished    R$768       R$2,900         R$63   \n6077      acept  not furnished    R$250         R$950         R$42   \n6078  not acept  not furnished      R$0       R$3,500        R$250   \n6079      acept      furnished    R$489       R$1,900          R$0   \n\n     fire insurance     total  \n0             R$121   R$9,121  \n1              R$11   R$1,493  \n2              R$89  R$12,680  \n3              R$16   R$2,116  \n4              R$16   R$1,257  \n...             ...       ...  \n6075           R$15   R$1,585  \n6076           R$37   R$3,768  \n6077           R$13   R$1,255  \n6078           R$53   R$3,803  \n6079           R$25   R$2,414  \n\n[6080 rows x 14 columns]",
      "text/html": "<div>\n<style scoped>\n    .dataframe tbody tr th:only-of-type {\n        vertical-align: middle;\n    }\n\n    .dataframe tbody tr th {\n        vertical-align: top;\n    }\n\n    .dataframe thead th {\n        text-align: right;\n    }\n</style>\n<table border=\"1\" class=\"dataframe\">\n  <thead>\n    <tr style=\"text-align: right;\">\n      <th></th>\n      <th>Unnamed: 0</th>\n      <th>city</th>\n      <th>area</th>\n      <th>rooms</th>\n      <th>bathroom</th>\n      <th>parking spaces</th>\n      <th>floor</th>\n      <th>animal</th>\n      <th>furniture</th>\n      <th>hoa</th>\n      <th>valor_aluguel</th>\n      <th>property tax</th>\n      <th>fire insurance</th>\n      <th>total</th>\n    </tr>\n  </thead>\n  <tbody>\n    <tr>\n      <th>0</th>\n      <td>0</td>\n      <td>1</td>\n      <td>240</td>\n      <td>3</td>\n      <td>3</td>\n      <td>4</td>\n      <td>-</td>\n      <td>acept</td>\n      <td>furnished</td>\n      <td>R$0</td>\n      <td>R$8,000</td>\n      <td>R$1,000</td>\n      <td>R$121</td>\n      <td>R$9,121</td>\n    </tr>\n    <tr>\n      <th>1</th>\n      <td>1</td>\n      <td>0</td>\n      <td>64</td>\n      <td>2</td>\n      <td>1</td>\n      <td>1</td>\n      <td>10</td>\n      <td>acept</td>\n      <td>not furnished</td>\n      <td>R$540</td>\n      <td>R$820</td>\n      <td>R$122</td>\n      <td>R$11</td>\n      <td>R$1,493</td>\n    </tr>\n    <tr>\n      <th>2</th>\n      <td>2</td>\n      <td>1</td>\n      <td>443</td>\n      <td>5</td>\n      <td>5</td>\n      <td>4</td>\n      <td>3</td>\n      <td>acept</td>\n      <td>furnished</td>\n      <td>R$4,172</td>\n      <td>R$7,000</td>\n      <td>R$1,417</td>\n      <td>R$89</td>\n      <td>R$12,680</td>\n    </tr>\n    <tr>\n      <th>3</th>\n      <td>3</td>\n      <td>1</td>\n      <td>73</td>\n      <td>2</td>\n      <td>2</td>\n      <td>1</td>\n      <td>12</td>\n      <td>acept</td>\n      <td>not furnished</td>\n      <td>R$700</td>\n      <td>R$1,250</td>\n      <td>R$150</td>\n      <td>R$16</td>\n      <td>R$2,116</td>\n    </tr>\n    <tr>\n      <th>4</th>\n      <td>4</td>\n      <td>1</td>\n      <td>19</td>\n      <td>1</td>\n      <td>1</td>\n      <td>0</td>\n      <td>-</td>\n      <td>not acept</td>\n      <td>not furnished</td>\n      <td>R$0</td>\n      <td>R$1,200</td>\n      <td>R$41</td>\n      <td>R$16</td>\n      <td>R$1,257</td>\n    </tr>\n    <tr>\n      <th>...</th>\n      <td>...</td>\n      <td>...</td>\n      <td>...</td>\n      <td>...</td>\n      <td>...</td>\n      <td>...</td>\n      <td>...</td>\n      <td>...</td>\n      <td>...</td>\n      <td>...</td>\n      <td>...</td>\n      <td>...</td>\n      <td>...</td>\n      <td>...</td>\n    </tr>\n    <tr>\n      <th>6075</th>\n      <td>6075</td>\n      <td>1</td>\n      <td>50</td>\n      <td>2</td>\n      <td>1</td>\n      <td>1</td>\n      <td>2</td>\n      <td>acept</td>\n      <td>not furnished</td>\n      <td>R$420</td>\n      <td>R$1,150</td>\n      <td>R$0</td>\n      <td>R$15</td>\n      <td>R$1,585</td>\n    </tr>\n    <tr>\n      <th>6076</th>\n      <td>6076</td>\n      <td>1</td>\n      <td>84</td>\n      <td>2</td>\n      <td>2</td>\n      <td>1</td>\n      <td>16</td>\n      <td>not acept</td>\n      <td>furnished</td>\n      <td>R$768</td>\n      <td>R$2,900</td>\n      <td>R$63</td>\n      <td>R$37</td>\n      <td>R$3,768</td>\n    </tr>\n    <tr>\n      <th>6077</th>\n      <td>6077</td>\n      <td>0</td>\n      <td>48</td>\n      <td>1</td>\n      <td>1</td>\n      <td>0</td>\n      <td>13</td>\n      <td>acept</td>\n      <td>not furnished</td>\n      <td>R$250</td>\n      <td>R$950</td>\n      <td>R$42</td>\n      <td>R$13</td>\n      <td>R$1,255</td>\n    </tr>\n    <tr>\n      <th>6078</th>\n      <td>6078</td>\n      <td>1</td>\n      <td>160</td>\n      <td>3</td>\n      <td>2</td>\n      <td>2</td>\n      <td>-</td>\n      <td>not acept</td>\n      <td>not furnished</td>\n      <td>R$0</td>\n      <td>R$3,500</td>\n      <td>R$250</td>\n      <td>R$53</td>\n      <td>R$3,803</td>\n    </tr>\n    <tr>\n      <th>6079</th>\n      <td>6079</td>\n      <td>1</td>\n      <td>60</td>\n      <td>2</td>\n      <td>1</td>\n      <td>1</td>\n      <td>4</td>\n      <td>acept</td>\n      <td>furnished</td>\n      <td>R$489</td>\n      <td>R$1,900</td>\n      <td>R$0</td>\n      <td>R$25</td>\n      <td>R$2,414</td>\n    </tr>\n  </tbody>\n</table>\n<p>6080 rows × 14 columns</p>\n</div>"
     },
     "execution_count": 13,
     "metadata": {},
     "output_type": "execute_result"
    }
   ],
   "source": [
    "df.rename(columns = {\"rent amount\" : \"valor_aluguel\"})"
   ],
   "metadata": {
    "collapsed": false,
    "pycharm": {
     "name": "#%%\n"
    }
   }
  },
  {
   "cell_type": "code",
   "source": [
    "df['area'].mean()\n",
    "df.groupby('city')[\"valor_aluguel\"]\n",
    "\n"
   ],
   "metadata": {
    "collapsed": false,
    "pycharm": {
     "name": "#%%\n"
    }
   },
   "execution_count": 16,
   "outputs": [
    {
     "data": {
      "text/plain": "<pandas.core.groupby.generic.DataFrameGroupBy object at 0x00000217B88E8E88>"
     },
     "execution_count": 16,
     "metadata": {},
     "output_type": "execute_result"
    }
   ]
  }
 ],
 "metadata": {
  "kernelspec": {
   "name": "pycharm-ebb23690",
   "language": "python",
   "display_name": "PyCharm (01_AI PUCMINAS)"
  },
  "language_info": {
   "codemirror_mode": {
    "name": "ipython",
    "version": 3
   },
   "file_extension": ".py",
   "mimetype": "text/x-python",
   "name": "python",
   "nbconvert_exporter": "python",
   "pygments_lexer": "ipython3",
   "version": "3.7.7"
  }
 },
 "nbformat": 4,
 "nbformat_minor": 1
}